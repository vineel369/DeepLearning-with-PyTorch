{
 "cells": [
  {
   "cell_type": "markdown",
   "metadata": {
    "colab_type": "text",
    "id": "Vuj3TVRMWAeX"
   },
   "source": [
    "# Pytorch Zero to GAN  : Basic tensors\n",
    "\n",
    "### Pytorch is an open sourced deep learning library for python, it is developed by Facebook research lab. This notebook covers the exploration of few pytroch tensor functions\n",
    "\n",
    "**Choosen pytorch tensor functions**"
   ]
  },
  {
   "cell_type": "code",
   "execution_count": 66,
   "metadata": {
    "colab": {},
    "colab_type": "code",
    "id": "sCPqVHG8WAeb"
   },
   "outputs": [],
   "source": [
    "# Import torch and other required modules\n",
    "import torch\n",
    "import numpy as np"
   ]
  },
  {
   "cell_type": "markdown",
   "metadata": {},
   "source": [
    "**Choosen torch functions**\n",
    "\n",
    "- torch.tensor()\n",
    "- torch.randn()\n",
    "- torch.arange()\n",
    "- torch.flatten()\n",
    "- Matrix multiplications - torch.mm()  torch.mv()\n",
    "- torch.argmax()\n",
    "- torch.Tensor.item()"
   ]
  },
  {
   "cell_type": "markdown",
   "metadata": {},
   "source": [
    "## Function 1 - torch.tensor\n",
    "\n",
    "This function converts input data to a tensor and the input data can be a list, tuple, NumPy array, scalar, and other types."
   ]
  },
  {
   "cell_type": "code",
   "execution_count": 40,
   "metadata": {},
   "outputs": [
    {
     "data": {
      "text/plain": [
       "tensor([1, 2, 3, 4])"
      ]
     },
     "execution_count": 40,
     "metadata": {},
     "output_type": "execute_result"
    }
   ],
   "source": [
    "#Example 1 - working\n",
    "tensor_1 = torch.tensor([1,2,3,4])\n",
    "tensor_1"
   ]
  },
  {
   "cell_type": "code",
   "execution_count": 41,
   "metadata": {},
   "outputs": [
    {
     "name": "stdout",
     "output_type": "stream",
     "text": [
      "Dimension of tensor :  1\n",
      "Shape of the tensor :  torch.Size([4])\n"
     ]
    }
   ],
   "source": [
    "print(\"Dimension of tensor : \",tensor_1.dim())\n",
    "print(\"Shape of the tensor : \",tensor_1.shape)"
   ]
  },
  {
   "cell_type": "code",
   "execution_count": 42,
   "metadata": {},
   "outputs": [
    {
     "name": "stdout",
     "output_type": "stream",
     "text": [
      "tensor([[ 1.,  2.,  3.],\n",
      "        [ 7.,  8., 10.],\n",
      "        [11., 20., 30.]])\n",
      "Dimension of tensor :  2\n",
      "Shape of the tensor :  torch.Size([3, 3])\n"
     ]
    }
   ],
   "source": [
    "#Example 2 - working\n",
    "tensor_2 = torch.tensor([[1,2,3],[7,8,10],[11,20,30]], dtype = torch.float32)\n",
    "print(tensor_2)\n",
    "\n",
    "print(\"Dimension of tensor : \",tensor_2.dim())\n",
    "print(\"Shape of the tensor : \",tensor_2.shape)"
   ]
  },
  {
   "cell_type": "code",
   "execution_count": 68,
   "metadata": {},
   "outputs": [
    {
     "data": {
      "text/plain": [
       "tensor([[0.2318, 0.5277, 0.6144, 0.6827],\n",
       "        [0.9638, 0.2528, 0.4053, 0.6631],\n",
       "        [0.5664, 0.9674, 0.6135, 0.6782]], dtype=torch.float64)"
      ]
     },
     "execution_count": 68,
     "metadata": {},
     "output_type": "execute_result"
    }
   ],
   "source": [
    "array_1 = np.random.rand(3,4) # Create an array of the given shape and populate it with random samples from a uniform distribution over [0, 1)\n",
    "tensor_3 = torch.tensor(array_1)\n",
    "tensor_3"
   ]
  },
  {
   "cell_type": "markdown",
   "metadata": {},
   "source": [
    "## Function 2 - torch.randn\n",
    "\n",
    "`torch.randn` returns a tensor with randomly filled elements from a [normal distribution](https://en.wikipedia.org/wiki/Normal_distribution) with mean 0 & standard deviation 1 and the shape of the tensor determined by the `size` argument"
   ]
  },
  {
   "cell_type": "code",
   "execution_count": 43,
   "metadata": {},
   "outputs": [
    {
     "data": {
      "text/plain": [
       "tensor([-0.8254, -0.2660, -0.7612,  0.7048, -1.8596, -1.2513])"
      ]
     },
     "execution_count": 43,
     "metadata": {},
     "output_type": "execute_result"
    }
   ],
   "source": [
    "#Example 1 - working\n",
    "tensor_rand = torch.randn((6))\n",
    "tensor_rand"
   ]
  },
  {
   "cell_type": "code",
   "execution_count": 44,
   "metadata": {},
   "outputs": [
    {
     "data": {
      "text/plain": [
       "tensor([[-0.7198,  0.2343, -1.1689, -1.9184, -0.8556],\n",
       "        [ 0.5851,  0.9229, -0.2094,  0.0444,  0.3789],\n",
       "        [-1.7424,  0.0966, -0.3040, -2.2399,  0.1730],\n",
       "        [ 0.9268, -1.5848,  0.3625,  0.8362, -0.4173]])"
      ]
     },
     "execution_count": 44,
     "metadata": {},
     "output_type": "execute_result"
    }
   ],
   "source": [
    "#Example 2 - working\n",
    "tensor_rand1 = torch.randn((4,5))\n",
    "tensor_rand1"
   ]
  },
  {
   "cell_type": "markdown",
   "metadata": {},
   "source": [
    "The above examples returns the tensors & their shapes are matched with `size` argument 6 and all the elements are randomly picked from standard normal distribution. Also, check [troch.rand](https://pytorch.org/docs/stable/torch.html?highlight=torch%20rand#torch.rand) function, which returns a tensor filled with random numbers from a uniform distribution on the interval [0,1)"
   ]
  },
  {
   "cell_type": "markdown",
   "metadata": {
    "colab_type": "text",
    "id": "0zXXDbhpWAel"
   },
   "source": [
    "## Function 3 - torch.arange \n",
    "\n",
    "`torch.arange` function returns a 1-D tensor with sequence of evenly spaced values within the given range [start & end). \n",
    "It requires atleast one argument i.e. `end` and the deafult value of the `start` & `step` arguments are 0 & 1 respectively \n",
    "\n",
    "- This function is similar to [numpy.arange](https://numpy.org/doc/stable/reference/generated/numpy.arange.html) function"
   ]
  },
  {
   "cell_type": "code",
   "execution_count": 45,
   "metadata": {
    "colab": {
     "base_uri": "https://localhost:8080/",
     "height": 35
    },
    "colab_type": "code",
    "id": "vil4x_36WAem",
    "outputId": "ca2b336a-0595-4e8b-fb9e-a58703fba3ec"
   },
   "outputs": [
    {
     "data": {
      "text/plain": [
       "tensor([0, 1, 2, 3, 4, 5, 6, 7, 8, 9])"
      ]
     },
     "execution_count": 45,
     "metadata": {},
     "output_type": "execute_result"
    }
   ],
   "source": [
    "#Example 1 - working\n",
    "torch.arange(10, dtype = torch.int64)"
   ]
  },
  {
   "cell_type": "markdown",
   "metadata": {
    "colab_type": "text",
    "id": "FJR8ENPfWAeu"
   },
   "source": [
    "Returns a 1D tensor of 10 values with evenly spaced of step size 1 and all are integers. This function consider the end point as end- stepsize and so the end point in this example would be 9 (10 -1)"
   ]
  },
  {
   "cell_type": "code",
   "execution_count": 46,
   "metadata": {
    "colab": {
     "base_uri": "https://localhost:8080/",
     "height": 104
    },
    "colab_type": "code",
    "id": "ZYksXRSQWAev",
    "outputId": "4957dc70-3982-41bf-d2ce-9a0a6ed21ac1"
   },
   "outputs": [
    {
     "data": {
      "text/plain": [
       "tensor([ 2,  4,  6,  8, 10, 12, 14, 16, 18, 20, 22, 24, 26, 28],\n",
       "       dtype=torch.int32)"
      ]
     },
     "execution_count": 46,
     "metadata": {},
     "output_type": "execute_result"
    }
   ],
   "source": [
    "#Example 2 - working\n",
    "torch.arange(start = 2, end = 30, step= 2.5, dtype = torch.int32)"
   ]
  },
  {
   "cell_type": "markdown",
   "metadata": {
    "colab_type": "text",
    "id": "V-O1i821WAe0"
   },
   "source": [
    "Returns a 1D tensor of evenly spaced values starting from 2 to 30. Observed that the tensor elements are rounded, since the given data type is an integer and also noticed that the space between the consecutive elements doesn't match with the given step size"
   ]
  },
  {
   "cell_type": "code",
   "execution_count": 47,
   "metadata": {},
   "outputs": [
    {
     "data": {
      "text/plain": [
       "tensor([ 2.0000,  4.5000,  7.0000,  9.5000, 12.0000, 14.5000, 17.0000, 19.5000,\n",
       "        22.0000, 24.5000, 27.0000, 29.5000])"
      ]
     },
     "execution_count": 47,
     "metadata": {},
     "output_type": "execute_result"
    }
   ],
   "source": [
    "#Example 3 - working\n",
    "torch.arange(start = 2, end = 30, step= 2.5, dtype = torch.float32)"
   ]
  },
  {
   "cell_type": "markdown",
   "metadata": {},
   "source": [
    "In this example the data type has changed to float and now noticed that the space between the consecutive elements were exactly matches with the given step size 2.5 "
   ]
  },
  {
   "cell_type": "code",
   "execution_count": 48,
   "metadata": {
    "colab": {
     "base_uri": "https://localhost:8080/",
     "height": 183
    },
    "colab_type": "code",
    "id": "7_8DrbxmWAe3",
    "outputId": "a623510a-5b4d-4712-9153-25a14565ea6b"
   },
   "outputs": [
    {
     "ename": "RuntimeError",
     "evalue": "invalid argument 2: upper bound and larger bound inconsistent with step sign at c:\\n\\pytorch_1559129895673\\work\\aten\\src\\th\\generic/THTensorMoreMath.cpp:650",
     "output_type": "error",
     "traceback": [
      "\u001b[1;31m---------------------------------------------------------------------------\u001b[0m",
      "\u001b[1;31mRuntimeError\u001b[0m                              Traceback (most recent call last)",
      "\u001b[1;32m<ipython-input-48-b1763e3b1f52>\u001b[0m in \u001b[0;36m<module>\u001b[1;34m\u001b[0m\n\u001b[0;32m      1\u001b[0m \u001b[1;31m# Example 4 - breaking (to illustrate when it breaks)\u001b[0m\u001b[1;33m\u001b[0m\u001b[1;33m\u001b[0m\u001b[1;33m\u001b[0m\u001b[0m\n\u001b[1;32m----> 2\u001b[1;33m \u001b[0mtorch\u001b[0m\u001b[1;33m.\u001b[0m\u001b[0marange\u001b[0m\u001b[1;33m(\u001b[0m\u001b[0mstart\u001b[0m \u001b[1;33m=\u001b[0m \u001b[1;36m2\u001b[0m\u001b[1;33m,\u001b[0m \u001b[0mend\u001b[0m \u001b[1;33m=\u001b[0m \u001b[1;36m10\u001b[0m\u001b[1;33m,\u001b[0m \u001b[0mstep\u001b[0m\u001b[1;33m=\u001b[0m \u001b[1;33m-\u001b[0m\u001b[1;36m1\u001b[0m\u001b[1;33m,\u001b[0m \u001b[0mdtype\u001b[0m \u001b[1;33m=\u001b[0m \u001b[0mtorch\u001b[0m\u001b[1;33m.\u001b[0m\u001b[0mint32\u001b[0m\u001b[1;33m)\u001b[0m\u001b[1;33m\u001b[0m\u001b[1;33m\u001b[0m\u001b[0m\n\u001b[0m",
      "\u001b[1;31mRuntimeError\u001b[0m: invalid argument 2: upper bound and larger bound inconsistent with step sign at c:\\n\\pytorch_1559129895673\\work\\aten\\src\\th\\generic/THTensorMoreMath.cpp:650"
     ]
    }
   ],
   "source": [
    "# Example 4 - breaking (to illustrate when it breaks)\n",
    "torch.arange(start = 2, end = 10, step= -1, dtype = torch.int32)"
   ]
  },
  {
   "cell_type": "markdown",
   "metadata": {
    "colab_type": "text",
    "id": "lH6Wu1ezWAe8"
   },
   "source": [
    "It is a RuntimeError, because Start & end bound signs are not consistent with step sign."
   ]
  },
  {
   "cell_type": "markdown",
   "metadata": {
    "colab_type": "text",
    "id": "7lUxRHqFWAe9"
   },
   "source": [
    "This function can be used to generate a sequence of evenly spaced elements as a 1D tensor"
   ]
  },
  {
   "cell_type": "markdown",
   "metadata": {
    "colab_type": "text",
    "id": "6V8F5BmAWAe-"
   },
   "source": [
    "## Function 4 - torch.flatten()\n",
    "\n",
    "This function helps to flattens the input(multiple dimensions) to a  dimension tensor. It is a combination of [torch.reshape](https://pytorch.org/docs/stable/torch.html?highlight=torch%20reshape#torch.reshape) & [torch.squeeze](https://pytorch.org/docs/stable/torch.html?highlight=torch%20squeeze#torch.squeeze) functions. \n",
    "\n",
    "It requires atleast one argument, i.e. a tensor. Start & end dimensions are optional & default values are 0 & -1 respectively"
   ]
  },
  {
   "cell_type": "code",
   "execution_count": 49,
   "metadata": {
    "colab": {
     "base_uri": "https://localhost:8080/",
     "height": 35
    },
    "colab_type": "code",
    "id": "FbxV-qGiWAe_",
    "outputId": "bdfc5b88-3035-4d90-ceb3-df983e7263c9"
   },
   "outputs": [
    {
     "name": "stdout",
     "output_type": "stream",
     "text": [
      "Shape of the input tensor :  torch.Size([3, 2])\n",
      "Shape of the flatten tensor : torch.Size([6])\n"
     ]
    },
    {
     "data": {
      "text/plain": [
       "tensor([4, 5, 6, 7, 8, 9])"
      ]
     },
     "execution_count": 49,
     "metadata": {},
     "output_type": "execute_result"
    }
   ],
   "source": [
    "# Example 1 - working\n",
    "\n",
    "input_tensor = torch.tensor([[4,5],[6,7],[8,9]])\n",
    "print(\"Shape of the input tensor : \",input_tensor.shape)\n",
    "\n",
    "flatten_it = torch.flatten(input_tensor)\n",
    "print(\"Shape of the flatten tensor :\",flatten_it.shape)\n",
    "flatten_it"
   ]
  },
  {
   "cell_type": "markdown",
   "metadata": {
    "colab_type": "text",
    "id": "8C8-Nu0zWAfE"
   },
   "source": [
    "This example returns a input tensor of size (3,2) to a 1-D tensor of size (6), which is equal to number of elements in the input tensor"
   ]
  },
  {
   "cell_type": "code",
   "execution_count": 50,
   "metadata": {
    "colab": {
     "base_uri": "https://localhost:8080/",
     "height": 35
    },
    "colab_type": "code",
    "id": "lGoYzn6kWAfF",
    "outputId": "0c6069a2-28be-48a8-f176-00a3c0aafc75"
   },
   "outputs": [
    {
     "name": "stdout",
     "output_type": "stream",
     "text": [
      "Shape of the input tensor :  torch.Size([2, 2, 3])\n",
      "Shape of the flatten tensor : torch.Size([2, 6])\n"
     ]
    },
    {
     "data": {
      "text/plain": [
       "tensor([[ 4,  5,  1,  6,  7,  8],\n",
       "        [ 8,  9, 10,  1,  1,  8]])"
      ]
     },
     "execution_count": 50,
     "metadata": {},
     "output_type": "execute_result"
    }
   ],
   "source": [
    "# Example 2 - working\n",
    "input_tensor = torch.tensor([[[4,5,1],[6,7,8]],[[8,9,10],[1,1,8]]])\n",
    "print(\"Shape of the input tensor : \",input_tensor.shape)\n",
    "\n",
    "flatten_it1 = torch.flatten(input_tensor,start_dim = 1)\n",
    "print(\"Shape of the flatten tensor :\",flatten_it1.shape)\n",
    "flatten_it1\n"
   ]
  },
  {
   "cell_type": "markdown",
   "metadata": {
    "colab_type": "text",
    "id": "82bWzEXsWAfK"
   },
   "source": [
    "First example shows that the whole input tensor flattened to a 1-D tensor, however, it is possible to flattens only specific parts of input tensor, which is shown in 2nd example.\n",
    "\n",
    "Input tensor of size (2,2,3) flattens to a size of (2,6). "
   ]
  },
  {
   "cell_type": "code",
   "execution_count": 51,
   "metadata": {
    "colab": {
     "base_uri": "https://localhost:8080/",
     "height": 35
    },
    "colab_type": "code",
    "id": "65k7wskaWAfL",
    "outputId": "a148cd95-26e4-403a-a96f-a1703476a503"
   },
   "outputs": [
    {
     "name": "stdout",
     "output_type": "stream",
     "text": [
      "Input tensor size : torch.Size([2, 2, 3])\n"
     ]
    }
   ],
   "source": [
    "# Example 3 - breaking (to illustrate when it breaks)\n",
    "input_tensor = torch.tensor([[[4,5,1],[6,7,8]],[[8,9,10],[1,1,8]]])\n",
    "print(\"Input tensor size :\", input_tensor.shape)"
   ]
  },
  {
   "cell_type": "code",
   "execution_count": 52,
   "metadata": {
    "colab": {
     "base_uri": "https://localhost:8080/",
     "height": 201
    },
    "colab_type": "code",
    "id": "54WWaXOc3BG-",
    "outputId": "586fb50e-5020-4f4b-a8af-52b3ed9ae9f4"
   },
   "outputs": [
    {
     "ename": "RuntimeError",
     "evalue": "flatten() has invalid args: start_dim cannot come after end_dim",
     "output_type": "error",
     "traceback": [
      "\u001b[1;31m---------------------------------------------------------------------------\u001b[0m",
      "\u001b[1;31mRuntimeError\u001b[0m                              Traceback (most recent call last)",
      "\u001b[1;32m<ipython-input-52-cc1b59ee7bf8>\u001b[0m in \u001b[0;36m<module>\u001b[1;34m\u001b[0m\n\u001b[1;32m----> 1\u001b[1;33m \u001b[0mflatten_tensor\u001b[0m \u001b[1;33m=\u001b[0m \u001b[0mtorch\u001b[0m\u001b[1;33m.\u001b[0m\u001b[0mflatten\u001b[0m\u001b[1;33m(\u001b[0m\u001b[0minput_tensor\u001b[0m\u001b[1;33m,\u001b[0m\u001b[0mstart_dim\u001b[0m \u001b[1;33m=\u001b[0m \u001b[1;36m2\u001b[0m\u001b[1;33m,\u001b[0m \u001b[0mend_dim\u001b[0m \u001b[1;33m=\u001b[0m \u001b[1;36m1\u001b[0m\u001b[1;33m)\u001b[0m\u001b[1;33m\u001b[0m\u001b[1;33m\u001b[0m\u001b[0m\n\u001b[0m\u001b[0;32m      2\u001b[0m \u001b[0mprint\u001b[0m\u001b[1;33m(\u001b[0m\u001b[0mflatten_tensor\u001b[0m\u001b[1;33m.\u001b[0m\u001b[0mshape\u001b[0m\u001b[1;33m)\u001b[0m\u001b[1;33m\u001b[0m\u001b[1;33m\u001b[0m\u001b[0m\n\u001b[0;32m      3\u001b[0m \u001b[0mflatten_tensor\u001b[0m\u001b[1;33m\u001b[0m\u001b[1;33m\u001b[0m\u001b[0m\n",
      "\u001b[1;31mRuntimeError\u001b[0m: flatten() has invalid args: start_dim cannot come after end_dim"
     ]
    }
   ],
   "source": [
    "flatten_tensor = torch.flatten(input_tensor,start_dim = 2, end_dim = 1)\n",
    "print(flatten_tensor.shape)\n",
    "flatten_tensor"
   ]
  },
  {
   "cell_type": "markdown",
   "metadata": {
    "colab_type": "text",
    "id": "hVZxZn-rWAfR"
   },
   "source": [
    "This function also have the end_dim argument and by default it's value is '-1'.  Start_dim value should come after end_dim value"
   ]
  },
  {
   "cell_type": "markdown",
   "metadata": {
    "colab_type": "text",
    "id": "1geK7hMJWAfS"
   },
   "source": [
    "This function helps to flatten an 3D image to a 1-D tensor, which is always the case for ANN input layer. This function also helps to convert the convolutional layer to linear layer "
   ]
  },
  {
   "cell_type": "markdown",
   "metadata": {
    "colab_type": "text",
    "id": "0-vBMQNyWAfT"
   },
   "source": [
    "## Function 5 - matrix multiplications - (torch.mm/mv)\n",
    "`torch.mm` - Performs a matrix multiplication of the two matrices. \n",
    "\n",
    "`torch.mv` - Performs a matrix-vector product of the matrix and vector\n",
    "\n",
    "These functions does not do broadcasting\n",
    "\n"
   ]
  },
  {
   "cell_type": "code",
   "execution_count": 53,
   "metadata": {
    "colab": {},
    "colab_type": "code",
    "id": "BMftdcdsWAfU"
   },
   "outputs": [
    {
     "name": "stdout",
     "output_type": "stream",
     "text": [
      "torch.Size([3, 2])\n"
     ]
    },
    {
     "data": {
      "text/plain": [
       "tensor([[ 0.6604,  0.6604],\n",
       "        [ 2.2407,  2.2407],\n",
       "        [-0.6707, -0.6707]])"
      ]
     },
     "execution_count": 53,
     "metadata": {},
     "output_type": "execute_result"
    }
   ],
   "source": [
    "# Example 1 - working with torch.mm\n",
    "\n",
    "matrix_1 = torch.randn(3,3)\n",
    "matrix_2 = torch.ones(3,2)\n",
    "result = torch.mm(matrix_1,matrix_2)\n",
    "print(result.shape)\n",
    "result"
   ]
  },
  {
   "cell_type": "markdown",
   "metadata": {
    "colab_type": "text",
    "id": "MhE9nZGtWAfa"
   },
   "source": [
    "This example returns a tensor of size (3,2); matrix_1 is a (3 x 3) tensor & matrix_2 is a (3 x 2) tensor and the resultant matrix multiplication is a (3 x 2) tensor"
   ]
  },
  {
   "cell_type": "code",
   "execution_count": 54,
   "metadata": {
    "colab": {},
    "colab_type": "code",
    "id": "-t6XtB0IWAfb"
   },
   "outputs": [
    {
     "name": "stdout",
     "output_type": "stream",
     "text": [
      "torch.Size([3])\n"
     ]
    },
    {
     "data": {
      "text/plain": [
       "tensor([-0.7140, -1.2720, -0.4160])"
      ]
     },
     "execution_count": 54,
     "metadata": {},
     "output_type": "execute_result"
    }
   ],
   "source": [
    "# Example 2 - working with torch.mv\n",
    "\n",
    "matrix = torch.randn(3,2)\n",
    "vec = torch.randn(2)\n",
    "result_mv = torch.mv(matrix,vec)\n",
    "print(result_mv.shape)\n",
    "result_mv"
   ]
  },
  {
   "cell_type": "markdown",
   "metadata": {
    "colab_type": "text",
    "id": "3QkCQVLpWAff"
   },
   "source": [
    "This example returns a tensor of size (3); matrix_1 is a (3 x 2) tensor & vec is a 1-D tensor of size 2and the resultant matrix-vector multiplication is a 1-D tensor of size 3"
   ]
  },
  {
   "cell_type": "code",
   "execution_count": 55,
   "metadata": {
    "colab": {},
    "colab_type": "code",
    "id": "2EwVE9kXWAfg"
   },
   "outputs": [
    {
     "ename": "RuntimeError",
     "evalue": "size mismatch, m1: [3 x 3], m2: [2 x 2] at c:\\n\\pytorch_1559129895673\\work\\aten\\src\\th\\generic/THTensorMath.cpp:940",
     "output_type": "error",
     "traceback": [
      "\u001b[1;31m---------------------------------------------------------------------------\u001b[0m",
      "\u001b[1;31mRuntimeError\u001b[0m                              Traceback (most recent call last)",
      "\u001b[1;32m<ipython-input-55-4ea87ac912fe>\u001b[0m in \u001b[0;36m<module>\u001b[1;34m\u001b[0m\n\u001b[0;32m      3\u001b[0m \u001b[0mmatrix_1\u001b[0m \u001b[1;33m=\u001b[0m \u001b[0mtorch\u001b[0m\u001b[1;33m.\u001b[0m\u001b[0mrandn\u001b[0m\u001b[1;33m(\u001b[0m\u001b[1;36m3\u001b[0m\u001b[1;33m,\u001b[0m\u001b[1;36m3\u001b[0m\u001b[1;33m)\u001b[0m\u001b[1;33m\u001b[0m\u001b[1;33m\u001b[0m\u001b[0m\n\u001b[0;32m      4\u001b[0m \u001b[0mmatrix_2\u001b[0m \u001b[1;33m=\u001b[0m \u001b[0mtorch\u001b[0m\u001b[1;33m.\u001b[0m\u001b[0mones\u001b[0m\u001b[1;33m(\u001b[0m\u001b[1;36m2\u001b[0m\u001b[1;33m,\u001b[0m\u001b[1;36m2\u001b[0m\u001b[1;33m)\u001b[0m\u001b[1;33m\u001b[0m\u001b[1;33m\u001b[0m\u001b[0m\n\u001b[1;32m----> 5\u001b[1;33m \u001b[0mresult\u001b[0m \u001b[1;33m=\u001b[0m \u001b[0mtorch\u001b[0m\u001b[1;33m.\u001b[0m\u001b[0mmm\u001b[0m\u001b[1;33m(\u001b[0m\u001b[0mmatrix_1\u001b[0m\u001b[1;33m,\u001b[0m\u001b[0mmatrix_2\u001b[0m\u001b[1;33m)\u001b[0m\u001b[1;33m\u001b[0m\u001b[1;33m\u001b[0m\u001b[0m\n\u001b[0m\u001b[0;32m      6\u001b[0m \u001b[0mprint\u001b[0m\u001b[1;33m(\u001b[0m\u001b[0mresult\u001b[0m\u001b[1;33m.\u001b[0m\u001b[0mshape\u001b[0m\u001b[1;33m)\u001b[0m\u001b[1;33m\u001b[0m\u001b[1;33m\u001b[0m\u001b[0m\n\u001b[0;32m      7\u001b[0m \u001b[0mresult\u001b[0m\u001b[1;33m\u001b[0m\u001b[1;33m\u001b[0m\u001b[0m\n",
      "\u001b[1;31mRuntimeError\u001b[0m: size mismatch, m1: [3 x 3], m2: [2 x 2] at c:\\n\\pytorch_1559129895673\\work\\aten\\src\\th\\generic/THTensorMath.cpp:940"
     ]
    }
   ],
   "source": [
    "# Example 3 - breaking (to illustrate when it breaks)\n",
    "\n",
    "matrix_1 = torch.randn(3,3)\n",
    "matrix_2 = torch.ones(2,2)\n",
    "result = torch.mm(matrix_1,matrix_2)\n",
    "print(result.shape)\n",
    "result"
   ]
  },
  {
   "cell_type": "markdown",
   "metadata": {
    "colab_type": "text",
    "id": "A4C3-QT1WAfi"
   },
   "source": [
    "There is a mismatch of matrix shapes. Matrix multiplication will happen only if the no. of. columns in matrix_1 should be equal to no. of. rows in matrix_2. "
   ]
  },
  {
   "cell_type": "markdown",
   "metadata": {
    "colab_type": "text",
    "id": "sNz-VfkQWAfj"
   },
   "source": [
    "These two functions are performing matrix operations, which is essential for building a neural nets from scratch"
   ]
  },
  {
   "cell_type": "markdown",
   "metadata": {
    "colab_type": "text",
    "id": "FMfBYyDgWAfj"
   },
   "source": [
    "## Function 6 - torch.argmax()\n",
    "\n",
    "This function returns the indices of the maximum value of all elements in the input tensor"
   ]
  },
  {
   "cell_type": "code",
   "execution_count": 56,
   "metadata": {
    "colab": {},
    "colab_type": "code",
    "id": "qFDFuGwiWAfk"
   },
   "outputs": [
    {
     "data": {
      "text/plain": [
       "tensor(3)"
      ]
     },
     "execution_count": 56,
     "metadata": {},
     "output_type": "execute_result"
    }
   ],
   "source": [
    "# Example 1 - working\n",
    "t1 = torch.tensor([10,25,70,100,90])\n",
    "torch.argmax(t1)"
   ]
  },
  {
   "cell_type": "markdown",
   "metadata": {
    "colab_type": "text",
    "id": "px1K7grvWAfm"
   },
   "source": [
    "This example returns the indice of the maximum value of the input tensor. Maximum value of the input tensor is 100 & it's index is 3"
   ]
  },
  {
   "cell_type": "code",
   "execution_count": 57,
   "metadata": {
    "colab": {},
    "colab_type": "code",
    "id": "h8S0-MHsWAfn"
   },
   "outputs": [
    {
     "name": "stdout",
     "output_type": "stream",
     "text": [
      "tensor([[ 3,  5],\n",
      "        [90, 10]])\n"
     ]
    },
    {
     "data": {
      "text/plain": [
       "tensor([1, 0])"
      ]
     },
     "execution_count": 57,
     "metadata": {},
     "output_type": "execute_result"
    }
   ],
   "source": [
    "# Example 2 - working\n",
    "t2 = torch.tensor([[3,5],[90,10]])\n",
    "print(t2)\n",
    "torch.argmax(t2,dim = 1) # If dim = None, the argmax of the flattened input is returned "
   ]
  },
  {
   "cell_type": "markdown",
   "metadata": {
    "colab_type": "text",
    "id": "OYgy1s6LWAfq"
   },
   "source": [
    "This example returns the indices of the maximum value of the input tensor along row axis and the output tensor is a 1-D tensor"
   ]
  },
  {
   "cell_type": "code",
   "execution_count": 58,
   "metadata": {
    "colab": {},
    "colab_type": "code",
    "id": "LhDsRv_NWAfr"
   },
   "outputs": [
    {
     "name": "stdout",
     "output_type": "stream",
     "text": [
      "tensor([[ 0.5535, -0.7249,  0.8329],\n",
      "        [ 0.7672, -0.6146, -3.3187],\n",
      "        [-0.0641, -0.5766, -2.1040]])\n"
     ]
    },
    {
     "ename": "RuntimeError",
     "evalue": "Dimension out of range (expected to be in range of [-2, 1], but got 2)",
     "output_type": "error",
     "traceback": [
      "\u001b[1;31m---------------------------------------------------------------------------\u001b[0m",
      "\u001b[1;31mRuntimeError\u001b[0m                              Traceback (most recent call last)",
      "\u001b[1;32m<ipython-input-58-ce2f3018aeb2>\u001b[0m in \u001b[0;36m<module>\u001b[1;34m\u001b[0m\n\u001b[0;32m      2\u001b[0m \u001b[0mt3\u001b[0m \u001b[1;33m=\u001b[0m \u001b[0mtorch\u001b[0m\u001b[1;33m.\u001b[0m\u001b[0mrandn\u001b[0m\u001b[1;33m(\u001b[0m\u001b[1;36m3\u001b[0m\u001b[1;33m,\u001b[0m\u001b[1;36m3\u001b[0m\u001b[1;33m)\u001b[0m\u001b[1;33m\u001b[0m\u001b[1;33m\u001b[0m\u001b[0m\n\u001b[0;32m      3\u001b[0m \u001b[0mprint\u001b[0m\u001b[1;33m(\u001b[0m\u001b[0mt3\u001b[0m\u001b[1;33m)\u001b[0m\u001b[1;33m\u001b[0m\u001b[1;33m\u001b[0m\u001b[0m\n\u001b[1;32m----> 4\u001b[1;33m \u001b[0mtorch\u001b[0m\u001b[1;33m.\u001b[0m\u001b[0margmax\u001b[0m\u001b[1;33m(\u001b[0m\u001b[0mt3\u001b[0m\u001b[1;33m,\u001b[0m\u001b[0mdim\u001b[0m \u001b[1;33m=\u001b[0m \u001b[1;36m2\u001b[0m\u001b[1;33m)\u001b[0m\u001b[1;33m\u001b[0m\u001b[1;33m\u001b[0m\u001b[0m\n\u001b[0m",
      "\u001b[1;32m~\\Anaconda3\\lib\\site-packages\\torch\\functional.py\u001b[0m in \u001b[0;36margmax\u001b[1;34m(input, dim, keepdim)\u001b[0m\n\u001b[0;32m    528\u001b[0m     \u001b[1;32mif\u001b[0m \u001b[0mdim\u001b[0m \u001b[1;32mis\u001b[0m \u001b[1;32mNone\u001b[0m\u001b[1;33m:\u001b[0m\u001b[1;33m\u001b[0m\u001b[1;33m\u001b[0m\u001b[0m\n\u001b[0;32m    529\u001b[0m         \u001b[1;32mreturn\u001b[0m \u001b[0mtorch\u001b[0m\u001b[1;33m.\u001b[0m\u001b[0m_argmax\u001b[0m\u001b[1;33m(\u001b[0m\u001b[0minput\u001b[0m\u001b[1;33m.\u001b[0m\u001b[0mcontiguous\u001b[0m\u001b[1;33m(\u001b[0m\u001b[1;33m)\u001b[0m\u001b[1;33m.\u001b[0m\u001b[0mview\u001b[0m\u001b[1;33m(\u001b[0m\u001b[1;33m-\u001b[0m\u001b[1;36m1\u001b[0m\u001b[1;33m)\u001b[0m\u001b[1;33m,\u001b[0m \u001b[0mdim\u001b[0m\u001b[1;33m=\u001b[0m\u001b[1;36m0\u001b[0m\u001b[1;33m,\u001b[0m \u001b[0mkeepdim\u001b[0m\u001b[1;33m=\u001b[0m\u001b[1;32mFalse\u001b[0m\u001b[1;33m)\u001b[0m\u001b[1;33m\u001b[0m\u001b[1;33m\u001b[0m\u001b[0m\n\u001b[1;32m--> 530\u001b[1;33m     \u001b[1;32mreturn\u001b[0m \u001b[0mtorch\u001b[0m\u001b[1;33m.\u001b[0m\u001b[0m_argmax\u001b[0m\u001b[1;33m(\u001b[0m\u001b[0minput\u001b[0m\u001b[1;33m,\u001b[0m \u001b[0mdim\u001b[0m\u001b[1;33m,\u001b[0m \u001b[0mkeepdim\u001b[0m\u001b[1;33m)\u001b[0m\u001b[1;33m\u001b[0m\u001b[1;33m\u001b[0m\u001b[0m\n\u001b[0m\u001b[0;32m    531\u001b[0m \u001b[1;33m\u001b[0m\u001b[0m\n\u001b[0;32m    532\u001b[0m \u001b[1;33m\u001b[0m\u001b[0m\n",
      "\u001b[1;31mRuntimeError\u001b[0m: Dimension out of range (expected to be in range of [-2, 1], but got 2)"
     ]
    }
   ],
   "source": [
    "# Example 3 - breaking (to illustrate when it breaks)\n",
    "t3 = torch.randn(3,3)\n",
    "print(t3)\n",
    "torch.argmax(t3,dim = 2)"
   ]
  },
  {
   "cell_type": "markdown",
   "metadata": {
    "colab_type": "text",
    "id": "wtNykdC8WAfu"
   },
   "source": [
    "Input tensor is a 2-dimension and the argmax output should be a 1-D tensor or a flattened ouput."
   ]
  },
  {
   "cell_type": "markdown",
   "metadata": {
    "colab_type": "text",
    "id": "1Va-cXQiWAfv"
   },
   "source": [
    "This function would be useful for when you need to know the max. index of the classification model outputs "
   ]
  },
  {
   "cell_type": "markdown",
   "metadata": {
    "colab_type": "text",
    "id": "_ZeatAPKWAfv"
   },
   "source": [
    "## Function 7 - torch.tensor.item() \n",
    "\n",
    "Returns the value of this tensor as a standard Python number."
   ]
  },
  {
   "cell_type": "code",
   "execution_count": 59,
   "metadata": {
    "colab": {},
    "colab_type": "code",
    "id": "4vl3JZpeWAfw"
   },
   "outputs": [
    {
     "name": "stdout",
     "output_type": "stream",
     "text": [
      "tensor([100])\n"
     ]
    },
    {
     "data": {
      "text/plain": [
       "100"
      ]
     },
     "execution_count": 59,
     "metadata": {},
     "output_type": "execute_result"
    }
   ],
   "source": [
    "# Example 1 - working\n",
    "\n",
    "t1 = torch.tensor([100])\n",
    "print(t1)\n",
    "t1.item()"
   ]
  },
  {
   "cell_type": "markdown",
   "metadata": {
    "colab_type": "text",
    "id": "2N0rh1tCWAfz"
   },
   "source": [
    "This example returns the tensor([100]) to 100 "
   ]
  },
  {
   "cell_type": "code",
   "execution_count": 60,
   "metadata": {
    "colab": {},
    "colab_type": "code",
    "id": "e8rvoGZJWAf0"
   },
   "outputs": [
    {
     "name": "stdout",
     "output_type": "stream",
     "text": [
      "tensor([[99]])\n"
     ]
    },
    {
     "data": {
      "text/plain": [
       "99"
      ]
     },
     "execution_count": 60,
     "metadata": {},
     "output_type": "execute_result"
    }
   ],
   "source": [
    "# Example 2 - working\n",
    "t2 = torch.tensor([[99]])\n",
    "print(t2)\n",
    "t2.item()"
   ]
  },
  {
   "cell_type": "markdown",
   "metadata": {
    "colab_type": "text",
    "id": "2nm3b4qZWAf2"
   },
   "source": [
    "This example returns the tensor([99]) to 99 "
   ]
  },
  {
   "cell_type": "code",
   "execution_count": 61,
   "metadata": {
    "colab": {},
    "colab_type": "code",
    "id": "vOcSyQHvWAf3"
   },
   "outputs": [
    {
     "ename": "ValueError",
     "evalue": "only one element tensors can be converted to Python scalars",
     "output_type": "error",
     "traceback": [
      "\u001b[1;31m---------------------------------------------------------------------------\u001b[0m",
      "\u001b[1;31mValueError\u001b[0m                                Traceback (most recent call last)",
      "\u001b[1;32m<ipython-input-61-ca2f33dfcd93>\u001b[0m in \u001b[0;36m<module>\u001b[1;34m\u001b[0m\n\u001b[0;32m      1\u001b[0m \u001b[1;31m# Example 3 - breaking (to illustrate when it breaks)\u001b[0m\u001b[1;33m\u001b[0m\u001b[1;33m\u001b[0m\u001b[1;33m\u001b[0m\u001b[0m\n\u001b[0;32m      2\u001b[0m \u001b[0mt3\u001b[0m \u001b[1;33m=\u001b[0m \u001b[0mtorch\u001b[0m\u001b[1;33m.\u001b[0m\u001b[0mrandn\u001b[0m\u001b[1;33m(\u001b[0m\u001b[1;36m2\u001b[0m\u001b[1;33m,\u001b[0m\u001b[1;36m2\u001b[0m\u001b[1;33m)\u001b[0m\u001b[1;33m\u001b[0m\u001b[1;33m\u001b[0m\u001b[0m\n\u001b[1;32m----> 3\u001b[1;33m \u001b[0mt3\u001b[0m\u001b[1;33m.\u001b[0m\u001b[0mitem\u001b[0m\u001b[1;33m(\u001b[0m\u001b[1;33m)\u001b[0m\u001b[1;33m\u001b[0m\u001b[1;33m\u001b[0m\u001b[0m\n\u001b[0m",
      "\u001b[1;31mValueError\u001b[0m: only one element tensors can be converted to Python scalars"
     ]
    }
   ],
   "source": [
    "# Example 3 - breaking (to illustrate when it breaks)\n",
    "t3 = torch.randn(2,2)\n",
    "t3.item()"
   ]
  },
  {
   "cell_type": "markdown",
   "metadata": {
    "colab_type": "text",
    "id": "_1imVBe6WAf5"
   },
   "source": [
    "This function expects the tensors with one element. For other cases, see `tolist()`."
   ]
  },
  {
   "cell_type": "markdown",
   "metadata": {
    "colab_type": "text",
    "id": "nebybJoJWAf5"
   },
   "source": [
    "This function would be useful to use the output of single valued tensors as a variable to other functions/objects."
   ]
  },
  {
   "cell_type": "markdown",
   "metadata": {
    "colab_type": "text",
    "id": "S-qDFkZpWAf6"
   },
   "source": [
    "## Conclusion\n",
    "\n",
    "In summary, We had covered 5 different basic to intermediate tensor functions out of many available pytorch tensor functions. To further explore tensor functions, please do visit the [Pytorch official documentation](https://pytorch.org/docs/stable/torch.html?highlight=torch%20linspace#)"
   ]
  },
  {
   "cell_type": "markdown",
   "metadata": {
    "colab_type": "text",
    "id": "RtDs6aZ6WAf6"
   },
   "source": [
    "## Reference Links\n",
    "Provide links to your references and other interesting articles about tensors\n",
    "* Official documentation for `torch.Tensor`: https://pytorch.org/docs/stable/tensors.html\n",
    "* https://deeplizard.com/learn/video/fCVuiW9AFzY"
   ]
  },
  {
   "cell_type": "code",
   "execution_count": 63,
   "metadata": {
    "colab": {
     "base_uri": "https://localhost:8080/",
     "height": 52
    },
    "colab_type": "code",
    "id": "4_QKR9kYWAf6",
    "outputId": "1e842c29-8dd2-49b7-f3d7-d5a51be6eda6"
   },
   "outputs": [],
   "source": [
    "!pip install jovian --upgrade --quiet"
   ]
  },
  {
   "cell_type": "code",
   "execution_count": 64,
   "metadata": {
    "colab": {
     "base_uri": "https://localhost:8080/",
     "height": 305
    },
    "colab_type": "code",
    "id": "Y4XcJW6hWAf9",
    "outputId": "d71acada-543f-4c93-9018-a1aceb65d436"
   },
   "outputs": [
    {
     "data": {
      "application/javascript": [
       "if (window.IPython && IPython.notebook.kernel) IPython.notebook.kernel.execute('jovian.utils.jupyter.get_notebook_name_saved = lambda: \"' + IPython.notebook.notebook_name + '\"')"
      ],
      "text/plain": [
       "<IPython.core.display.Javascript object>"
      ]
     },
     "metadata": {},
     "output_type": "display_data"
    }
   ],
   "source": [
    "import jovian"
   ]
  },
  {
   "cell_type": "code",
   "execution_count": 69,
   "metadata": {
    "colab": {
     "base_uri": "https://localhost:8080/",
     "height": 35
    },
    "colab_type": "code",
    "id": "Kdbcl_9SWAgA",
    "outputId": "61b6e717-2b4f-4ee1-a6ac-c9e3b3d46ea3"
   },
   "outputs": [
    {
     "data": {
      "application/javascript": [
       "window.require && require([\"base/js/namespace\"],function(Jupyter){Jupyter.notebook.save_checkpoint()})"
      ],
      "text/plain": [
       "<IPython.core.display.Javascript object>"
      ]
     },
     "metadata": {},
     "output_type": "display_data"
    },
    {
     "name": "stdout",
     "output_type": "stream",
     "text": [
      "[jovian] Attempting to save notebook..\n",
      "[jovian] Updating notebook \"vineel369/pytorch-zero-to-gan-01-basic-tensor-operations\" on https://jovian.ml/\n",
      "[jovian] Uploading notebook..\n",
      "[jovian] Capturing environment..\n",
      "[jovian] Committed successfully! https://jovian.ml/vineel369/pytorch-zero-to-gan-01-basic-tensor-operations\n"
     ]
    },
    {
     "data": {
      "text/plain": [
       "'https://jovian.ml/vineel369/pytorch-zero-to-gan-01-basic-tensor-operations'"
      ]
     },
     "execution_count": 69,
     "metadata": {},
     "output_type": "execute_result"
    }
   ],
   "source": [
    "jovian.commit()"
   ]
  },
  {
   "cell_type": "code",
   "execution_count": null,
   "metadata": {
    "colab": {},
    "colab_type": "code",
    "id": "_-O74epiWAgC"
   },
   "outputs": [],
   "source": []
  }
 ],
 "metadata": {
  "colab": {
   "name": "01-tensor-operations.ipynb",
   "provenance": []
  },
  "kernelspec": {
   "display_name": "Python 3",
   "language": "python",
   "name": "python3"
  },
  "language_info": {
   "codemirror_mode": {
    "name": "ipython",
    "version": 3
   },
   "file_extension": ".py",
   "mimetype": "text/x-python",
   "name": "python",
   "nbconvert_exporter": "python",
   "pygments_lexer": "ipython3",
   "version": "3.8.2"
  }
 },
 "nbformat": 4,
 "nbformat_minor": 1
}
